{
 "cells": [
  {
   "cell_type": "code",
   "execution_count": 1,
   "metadata": {},
   "outputs": [],
   "source": [
    "%load_ext autoreload\n",
    "%autoreload 2"
   ]
  },
  {
   "cell_type": "code",
   "execution_count": 2,
   "metadata": {},
   "outputs": [],
   "source": [
    "from isanlp.processor_sentence_splitter import ProcessorSentenceSplitter\n",
    "from isanlp.en.processor_tokenizer_nltk_en import ProcessorTokenizerNltkEn\n",
    "from isanlp import PipelineCommon\n",
    "from isanlp_srl_allennlp.processor_srl_allennlp import ProcessorSrlAllennlp\n",
    "\n",
    "\n",
    "model_path = 'https://s3-us-west-2.amazonaws.com/allennlp/models/bert-base-srl-2019.06.17.tar.gz'\n",
    "\n",
    "tokenizer = ProcessorTokenizerNltkEn()\n",
    "splitter = ProcessorSentenceSplitter()\n",
    "srl_proc = ProcessorSrlAllennlp(model_path)\n",
    "\n",
    "ppl = PipelineCommon([\n",
    "    (tokenizer, ['text'], {0 : 'tokens'}),\n",
    "    (splitter, ['tokens'], {0 : 'sentences'}),\n",
    "    (srl_proc, ['tokens', 'sentences'], {0 : 'srl'})\n",
    "])"
   ]
  },
  {
   "cell_type": "code",
   "execution_count": 3,
   "metadata": {},
   "outputs": [],
   "source": [
    "#results = ppl('Jack has built a house')\n",
    "results = ppl('Did Uriah honestly think he could beat the game in under three hours? Mama washed the frame.')"
   ]
  },
  {
   "cell_type": "code",
   "execution_count": 5,
   "metadata": {},
   "outputs": [
    {
     "data": {
      "text/plain": [
       "{'text': 'Did Uriah honestly think he could beat the game in under three hours? Mama washed the frame.',\n",
       " 'tokens': [<isanlp.annotation.Token at 0x7fbd8d3246d8>,\n",
       "  <isanlp.annotation.Token at 0x7fbe2968b518>,\n",
       "  <isanlp.annotation.Token at 0x7fbe2968b748>,\n",
       "  <isanlp.annotation.Token at 0x7fbe2968b6d8>,\n",
       "  <isanlp.annotation.Token at 0x7fbe2968b7b8>,\n",
       "  <isanlp.annotation.Token at 0x7fbe2968b860>,\n",
       "  <isanlp.annotation.Token at 0x7fbe2968b7f0>,\n",
       "  <isanlp.annotation.Token at 0x7fbe2968b978>,\n",
       "  <isanlp.annotation.Token at 0x7fbe2968b940>,\n",
       "  <isanlp.annotation.Token at 0x7fbe2968b9b0>,\n",
       "  <isanlp.annotation.Token at 0x7fbe2968ba20>,\n",
       "  <isanlp.annotation.Token at 0x7fbe2968bac8>,\n",
       "  <isanlp.annotation.Token at 0x7fbe2968bd30>,\n",
       "  <isanlp.annotation.Token at 0x7fbe2968bb70>,\n",
       "  <isanlp.annotation.Token at 0x7fbe2968bcf8>,\n",
       "  <isanlp.annotation.Token at 0x7fbe2968bbe0>,\n",
       "  <isanlp.annotation.Token at 0x7fbe2968bc88>,\n",
       "  <isanlp.annotation.Token at 0x7fbe2968bdd8>,\n",
       "  <isanlp.annotation.Token at 0x7fbe2968bd68>],\n",
       " 'sentences': [<isanlp.annotation.Sentence at 0x7fbe2968bda0>,\n",
       "  <isanlp.annotation.Sentence at 0x7fbe2974a438>],\n",
       " 'srl': [[<isanlp.annotation.Event at 0x7fbe29666d30>,\n",
       "   <isanlp.annotation.Event at 0x7fbe29666978>,\n",
       "   <isanlp.annotation.Event at 0x7fbd8d30fba8>,\n",
       "   <isanlp.annotation.Event at 0x7fbd8d386e48>],\n",
       "  [<isanlp.annotation.Event at 0x7fbd93c82ba8>]]}"
      ]
     },
     "execution_count": 5,
     "metadata": {},
     "output_type": "execute_result"
    }
   ],
   "source": [
    "results"
   ]
  },
  {
   "cell_type": "code",
   "execution_count": 11,
   "metadata": {},
   "outputs": [
    {
     "name": "stdout",
     "output_type": "stream",
     "text": [
      "Verb:  Did\n",
      "Verb:  think\n",
      "Arg:  ARG0 Uriah\n",
      "Arg:  ARGM honestly\n",
      "Arg:  ARG1 he could beat the game in under three hours\n",
      "Verb:  could\n",
      "Verb:  beat\n",
      "Arg:  ARG0 he\n",
      "Arg:  ARGM could\n",
      "Arg:  ARG1 the game\n",
      "Arg:  ARGM in under three hours\n",
      "Verb:  washed\n",
      "Arg:  ARG0 Mama\n",
      "Arg:  ARG1 the frame\n"
     ]
    }
   ],
   "source": [
    "from isanlp.annotation_repr import CSentence\n",
    "\n",
    "def print_event(event, tokens):\n",
    "    print('Verb: ', ' '.join(tokens[e].text for e in range(event.pred[0], event.pred[1])))\n",
    "    for arg in event.args:\n",
    "        print('Arg: ', arg.tag, ' '.join(tokens[e].text for e in range(arg.begin, arg.end)))\n",
    "        \n",
    "\n",
    "for sent_num, srl_sent in enumerate(results['srl']):\n",
    "    for event in srl_sent:\n",
    "        print_event(event, CSentence(results['tokens'], results['sentences'][sent_num]))"
   ]
  },
  {
   "cell_type": "code",
   "execution_count": 13,
   "metadata": {},
   "outputs": [
    {
     "data": {
      "text/plain": [
       "{'text': 'My data was washing a car. My mom was washing the frame.',\n",
       " 'tokens': [<isanlp.annotation.Token at 0x7fbd8cc61c88>,\n",
       "  <isanlp.annotation.Token at 0x7fbd8cc61860>,\n",
       "  <isanlp.annotation.Token at 0x7fbd8cc61208>,\n",
       "  <isanlp.annotation.Token at 0x7fbd8cc61198>,\n",
       "  <isanlp.annotation.Token at 0x7fbd8cc61b38>,\n",
       "  <isanlp.annotation.Token at 0x7fbd8cc61b00>,\n",
       "  <isanlp.annotation.Token at 0x7fbd8cc619b0>,\n",
       "  <isanlp.annotation.Token at 0x7fbd8cc61ba8>,\n",
       "  <isanlp.annotation.Token at 0x7fbd8cc61c18>,\n",
       "  <isanlp.annotation.Token at 0x7fbd8cc61cc0>,\n",
       "  <isanlp.annotation.Token at 0x7fbd8cc61d30>,\n",
       "  <isanlp.annotation.Token at 0x7fbd8cc61da0>,\n",
       "  <isanlp.annotation.Token at 0x7fbd8cc61e10>,\n",
       "  <isanlp.annotation.Token at 0x7fbd8cc61eb8>],\n",
       " 'sentences': [<isanlp.annotation.Sentence at 0x7fbd8cc61ef0>,\n",
       "  <isanlp.annotation.Sentence at 0x7fbd8cc61f28>],\n",
       " 'srl': [[<isanlp.annotation.Event at 0x7fbd8cc61fd0>,\n",
       "   <isanlp.annotation.Event at 0x7fbd8cc61f98>],\n",
       "  [<isanlp.annotation.Event at 0x7fbd8cc55160>,\n",
       "   <isanlp.annotation.Event at 0x7fbd8cc55198>]]}"
      ]
     },
     "execution_count": 13,
     "metadata": {},
     "output_type": "execute_result"
    }
   ],
   "source": [
    "from isanlp.processor_remote import ProcessorRemote\n",
    "\n",
    "proc = ProcessorRemote('192.168.1.69', 3333, 'default')\n",
    "proc('My data was washing a car. My mom was washing the frame.')"
   ]
  }
 ],
 "metadata": {
  "kernelspec": {
   "display_name": "Python 3",
   "language": "python",
   "name": "python3"
  },
  "language_info": {
   "codemirror_mode": {
    "name": "ipython",
    "version": 3
   },
   "file_extension": ".py",
   "mimetype": "text/x-python",
   "name": "python",
   "nbconvert_exporter": "python",
   "pygments_lexer": "ipython3",
   "version": "3.6.7"
  }
 },
 "nbformat": 4,
 "nbformat_minor": 2
}
